{
 "cells": [
  {
   "cell_type": "code",
   "execution_count": 2,
   "metadata": {},
   "outputs": [],
   "source": [
    "import networkx as nx\n",
    "import matplotlib.pyplot as plt\n",
    "from matplotlib import pylab\n",
    "import numpy as np\n",
    "import pickle\n",
    "from collections import Counter"
   ]
  },
  {
   "cell_type": "code",
   "execution_count": 43,
   "metadata": {},
   "outputs": [],
   "source": [
    "def naive_method(graph, empty, attr):\n",
    "    \"\"\"   Predict the missing attribute with a simple but effective\n",
    "    relational classifier. \n",
    "    \n",
    "    The assumption is that two connected nodes are \n",
    "    likely to share the same attribute value. Here we chose the most frequently\n",
    "    used attribute by the neighbors\n",
    "    \n",
    "    Parameters\n",
    "    ----------\n",
    "    graph : graph\n",
    "       A networkx graph\n",
    "    empty : list\n",
    "       The nodes with empty attributes \n",
    "    attr : dict \n",
    "       A dict of attributes, either location, employer or college attributes. \n",
    "       key is a node, value is a list of attribute values.\n",
    "\n",
    "    Returns\n",
    "    -------\n",
    "    predicted_values : dict \n",
    "       A dict of attributes, either location, employer or college attributes. \n",
    "       key is a node (from empty), value is a list of attribute values. Here \n",
    "       only 1 value in the list.\n",
    "     \"\"\"\n",
    "    predicted_values={}\n",
    "    for n in empty:\n",
    "        nbrs_attr_values=[] \n",
    "        for nbr in graph.neighbors(n):\n",
    "            if nbr in attr:\n",
    "                for val in attr[nbr]:\n",
    "                    nbrs_attr_values.append(val)\n",
    "        predicted_values[n]=[]\n",
    "        if nbrs_attr_values: # non empty list\n",
    "            # count the number of occurrence each value and returns a dict\n",
    "            cpt=Counter(nbrs_attr_values)\n",
    "            # take the most represented attribute value among neighbors\n",
    "            a,nb_occurrence=max(cpt.items(), key=lambda t: t[1])\n",
    "            predicted_values[n].append(a)\n",
    "    return predicted_values\n",
    "\n",
    "def evaluation_accuracy(groundtruth, pred):\n",
    "    \"\"\"    Compute the accuracy of your model.\n",
    "\n",
    "     The accuracy is the proportion of true results.\n",
    "\n",
    "    Parameters\n",
    "    ----------\n",
    "    groundtruth :  : dict \n",
    "       A dict of attributes, either location, employer or college attributes. \n",
    "       key is a node, value is a list of attribute values.\n",
    "    pred : dict \n",
    "       A dict of attributes, either location, employer or college attributes. \n",
    "       key is a node, value is a list of attribute values. \n",
    "\n",
    "    Returns\n",
    "    -------\n",
    "    out : float\n",
    "       Accuracy.\n",
    "    \"\"\"\n",
    "    true_positive_prediction=0   \n",
    "    for p_key, p_value in pred.items():\n",
    "        if p_key in groundtruth:\n",
    "            # if prediction is no attribute values, e.g. [] and so is the groundtruth\n",
    "            # May happen\n",
    "            if not p_value and not groundtruth[p_key]:\n",
    "                true_positive_prediction+=1\n",
    "            # counts the number of good prediction for node p_key\n",
    "            # here len(p_value)=1 but we could have tried to predict more values\n",
    "            true_positive_prediction += len([c for c in p_value if c in groundtruth[p_key]])          \n",
    "        # no else, should not happen: train and test datasets are consistent\n",
    "    return true_positive_prediction*100/sum(len(v) for v in pred.values())"
   ]
  },
  {
   "cell_type": "code",
   "execution_count": 144,
   "metadata": {},
   "outputs": [],
   "source": [
    "def open_pickle(file):\n",
    "    attr = {}\n",
    "    with open(file + '.pickle', 'rb') as handle:\n",
    "        attr = pickle.load(handle)\n",
    "    return attr\n",
    "\n",
    "set_type = 'large' # Change here the set type\n",
    "\n",
    "G = nx.read_gexf(set_type + 'Linkedin.gexf')\n",
    "college = open_pickle(set_type + 'College')\n",
    "empty_college = open_pickle(set_type + 'College_60percent_of_empty_profile')\n",
    "employer = open_pickle(set_type + 'Employer')\n",
    "empty_employer = open_pickle(set_type + 'Employer_60percent_of_empty_profile')\n",
    "location = open_pickle(set_type + 'Location')\n",
    "empty_location = open_pickle(set_type + 'Location_60percent_of_empty_profile')\n",
    "empty_nodes = open_pickle(set_type + 'RemovedNodes_60percent_of_empty_profile')"
   ]
  },
  {
   "cell_type": "code",
   "execution_count": 145,
   "metadata": {},
   "outputs": [
    {
     "name": "stdout",
     "output_type": "stream",
     "text": [
      "45.055491% of the predictions are true\n"
     ]
    }
   ],
   "source": [
    "predictions = naive_method(G, empty_nodes, empty_location) #\n",
    "groundtruth = location #\n",
    "result = evaluation_accuracy(groundtruth, predictions)\n",
    "print(\"%f%% of the predictions are true\" % result)"
   ]
  },
  {
   "cell_type": "code",
   "execution_count": 146,
   "metadata": {},
   "outputs": [
    {
     "data": {
      "image/png": "[encoded data removed]",
      "text/plain": [
       "<Figure size 432x288 with 1 Axes>"
      ]
     },
     "metadata": {
      "needs_background": "light"
     },
     "output_type": "display_data"
    }
   ],
   "source": [
    "def graph_histogram(graph, attr={}):\n",
    "    seq = []\n",
    "    for n in graph.nodes:\n",
    "        i = 0\n",
    "        for nb in graph.neighbors(n):\n",
    "            if not attr or nb in attr: i += 1\n",
    "        seq.append(i)\n",
    "    plt.hist(seq, max(seq))\n",
    "    plt.xlim(0,50)\n",
    "    plt.show()\n",
    "            \n",
    "graph_histogram(G)"
   ]
  },
  {
   "cell_type": "code",
   "execution_count": 147,
   "metadata": {},
   "outputs": [
    {
     "name": "stdout",
     "output_type": "stream",
     "text": [
      "0.5069191551347414\n"
     ]
    }
   ],
   "source": [
    "\"\"\"def get_attr(graph, attr, n):\n",
    "    for nb in graph(n):\"\"\"\n",
    "\n",
    "def extend(array_of_arrays):\n",
    "    extended_array = []\n",
    "    for array in array_of_arrays:\n",
    "        for val in array:\n",
    "            extended_array.append(val)\n",
    "    return extended_array\n",
    "        \n",
    "def second_method(graph, empty, attr):\n",
    "    predicted_values = {}\n",
    "    for n in empty:\n",
    "        nbrs = []\n",
    "        for nb in graph.neighbors(n):\n",
    "            if nb in attr: nbrs.append(attr[nb])\n",
    "        if len(nbrs) >= 7: \n",
    "            nbrs = extend(nbrs)\n",
    "            cpt = Counter(nbrs)\n",
    "            a, nb_occurrence = max(cpt.items(), key=lambda t: t[1])\n",
    "            predicted_values[n] = [a]\n",
    "    return predicted_values\n",
    "\n",
    "def premier_method(graph, empty, attr):\n",
    "    predicted_values = {}\n",
    "    for n in empty:\n",
    "        i = 0\n",
    "        for nb in graph.neighbors(n):\n",
    "            if nb in attr: \n",
    "                i += 1\n",
    "                aux = nb\n",
    "        \"\"\"if i < 3:\n",
    "            nbrs = []\n",
    "            for nb1 in graph.neighbors(n):\n",
    "                for nb2 in graph.neighbors(nb1):\n",
    "                    for nb3 in graph.neighbors(nb2):\n",
    "                        if nb3 in attr:\n",
    "                            for val in attr[nb3]:\n",
    "                                nbrs.append(val)\n",
    "            if nbrs:\n",
    "                cpt = Counter(nbrs)\n",
    "                a, nb_occurrence = max(cpt.items(), key=lambda t: t[1])\n",
    "                predicted_values[n] = [a] \"\"\"\n",
    "        if i == 1:\n",
    "            predicted_values[n] = attr[aux]\n",
    "    return predicted_values\n",
    "\n",
    "def evaluate(groundtruth, predicted):\n",
    "    a = 0\n",
    "    b = 0\n",
    "    for n in predicted:\n",
    "        if n in groundtruth:\n",
    "            a += 1\n",
    "            if predicted[n] == groundtruth[n]:\n",
    "                b += 1\n",
    "    return b/a\n",
    "        \n",
    "predictions = second_method(G, empty_nodes, empty_location)\n",
    "print(evaluate(location, predictions))"
   ]
  },
  {
   "cell_type": "code",
   "execution_count": 41,
   "metadata": {},
   "outputs": [],
   "source": [
    "def naive_method(graph, empty, attr):\n",
    "    predicted_values = {}\n",
    "    for n in empty:\n",
    "        nbrs_attr_values = [] \n",
    "        for nbr in graph.neighbors(n):\n",
    "            if nbr in attr:\n",
    "                for val in attr[nbr]:\n",
    "                    nbrs_attr_values.append(val)\n",
    "        predicted_values[n] = []\n",
    "        if nbrs_attr_values: \n",
    "            cpt = Counter(nbrs_attr_values)\n",
    "            a, nb_occurrence = max(cpt.items(), key=lambda t: t[1])\n",
    "            predicted_values[n].append(a)\n",
    "    return predicted_values"
   ]
  },
  {
   "cell_type": "code",
   "execution_count": 40,
   "metadata": {},
   "outputs": [
    {
     "name": "stdout",
     "output_type": "stream",
     "text": [
      "0.4777777777777778\n"
     ]
    }
   ],
   "source": [
    "attr = location\n",
    "\n",
    "a = 0\n",
    "for n in attr:\n",
    "    nbrs = []\n",
    "    for nb in G.neighbors(n):\n",
    "        if nb in attr:\n",
    "            for val in attr[nb]:\n",
    "                nbrs.append(val)\n",
    "    if nbrs: \n",
    "        cpt=Counter(nbrs)\n",
    "        k, v = max(cpt.items(), key=lambda t: t[1])\n",
    "        for i in attr[n]:\n",
    "            if k == i:\n",
    "                a = a+1\n",
    "\n",
    "print(a/540)"
   ]
  },
  {
   "cell_type": "code",
   "execution_count": 96,
   "metadata": {},
   "outputs": [
    {
     "data": {
      "text/plain": [
       "811"
      ]
     },
     "execution_count": 96,
     "metadata": {},
     "output_type": "execute_result"
    }
   ],
   "source": [
    "len(G.nodes)"
   ]
  },
  {
   "cell_type": "code",
   "execution_count": null,
   "metadata": {},
   "outputs": [],
   "source": []
  }
 ],
 "metadata": {
  "kernelspec": {
   "display_name": "Python 3",
   "language": "python",
   "name": "python3"
  },
  "language_info": {
   "codemirror_mode": {
    "name": "ipython",
    "version": 3
   },
   "file_extension": ".py",
   "mimetype": "text/x-python",
   "name": "python",
   "nbconvert_exporter": "python",
   "pygments_lexer": "ipython3",
   "version": "3.6.7"
  }
 },
 "nbformat": 4,
 "nbformat_minor": 2
}
