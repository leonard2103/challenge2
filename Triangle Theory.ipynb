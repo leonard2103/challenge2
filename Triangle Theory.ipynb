{
 "cells": [
  {
   "cell_type": "code",
   "execution_count": 1,
   "metadata": {},
   "outputs": [],
   "source": [
    "import pandas as pd\n",
    "import pprint as pp\n",
    "import networkx as nx"
   ]
  },
  {
   "cell_type": "code",
   "execution_count": 2,
   "metadata": {},
   "outputs": [],
   "source": [
    "data_dir = './data/'"
   ]
  },
  {
   "cell_type": "code",
   "execution_count": 3,
   "metadata": {},
   "outputs": [],
   "source": [
    "# Data\n",
    "graph = nx.read_gexf(data_dir + 'mediumLinkedin.gexf')\n",
    "location = pd.read_pickle(data_dir + 'mediumLocation.pickle')\n",
    "employer = pd.read_pickle(data_dir + 'mediumEmployer.pickle')\n",
    "college = pd.read_pickle(data_dir + 'mediumCollege.pickle')\n",
    "empty_str = '_60percent_of_empty_profile'\n",
    "get_empty = True\n",
    "location_empty = pd.read_pickle(data_dir + 'mediumLocation' + (empty_str if get_empty else '') + '.pickle')\n",
    "employer_empty = pd.read_pickle(data_dir + 'mediumEmployer' + (empty_str if get_empty else '') + '.pickle')\n",
    "college_empty = pd.read_pickle(data_dir + 'mediumCollege' + (empty_str if get_empty else '') + '.pickle')"
   ]
  },
  {
   "cell_type": "code",
   "execution_count": 4,
   "metadata": {},
   "outputs": [],
   "source": [
    "# Add attributes to nodes in graph\n",
    "possible_attributes = ['location', 'college', 'employer']\n",
    "\n",
    "def addAttributes(G, attributes, attributes_name):\n",
    "    nx.set_node_attributes(G, attributes, attributes_name)\n",
    "        \n",
    "addAttributes(graph, location_empty, 'location')\n",
    "addAttributes(graph, employer_empty, 'employer')\n",
    "addAttributes(graph, college_empty, 'college')"
   ]
  },
  {
   "cell_type": "code",
   "execution_count": 5,
   "metadata": {},
   "outputs": [],
   "source": [
    "# Check if new pair already considered in list, if not, it add it\n",
    "def checkIfInPairsNewPair(triangles_pairs, node_1, node_2):\n",
    "    if node_1 == node_2: return True\n",
    "    for triangles_pair in triangles_pairs:\n",
    "        if node_1 in triangles_pair and node_2 in triangles_pair: return True\n",
    "    return False\n",
    "\n",
    "# For one node, count number of trianlges with neighbors\n",
    "def countTrianglesFromRelatedNodes(node, related_nodes, triangles_pairs):\n",
    "    triangles_count = 0\n",
    "    for related_node in related_nodes:  \n",
    "        #print(f'checking pairs ({node}, {related_node})')\n",
    "        if not checkIfInPairsNewPair(triangles_pairs, node, related_node): \n",
    "            #print(f'found coincidence')\n",
    "            triangles_pairs.append((node, related_node))\n",
    "            triangles_count += 0 if len(related_nodes) == 0 else 1\n",
    "        else :\n",
    "            continue\n",
    "    return triangles_count\n",
    "\n",
    "# Assumes, main node is already identified\n",
    "# Delivers the quantity of triangles found and the array containing the pairs \n",
    "#   being the third one, the studied node\n",
    "def locateTrianglesInNode(G, neighbors, node):\n",
    "    triangles_count = 0\n",
    "    triangles_pairs = []\n",
    "    for n in neighbors:\n",
    "        # convert to list in order to be able to use its properties\n",
    "        neighbors_of_n = [n for n in G.neighbors(n)] \n",
    "        neighbors_of_n.remove(node) # ignore main node (node of study)\n",
    "        related = [f_n for f_n in neighbors_of_n if f_n in neighbors]\n",
    "        #print(f'neighbor: {n}, related {related}')\n",
    "        triangles_count += countTrianglesFromRelatedNodes(n, related, triangles_pairs)\n",
    "                \n",
    "    return { 'triangles_count': triangles_count, 'triangles_pairs': triangles_pairs }"
   ]
  },
  {
   "cell_type": "code",
   "execution_count": 6,
   "metadata": {},
   "outputs": [],
   "source": [
    "# Obtain desired nodes, where to start searching, idealy in the nodes that have all the information\n",
    "\n",
    "def checkIfAttributes(node, attributes):\n",
    "    for att in attributes:\n",
    "        if not att in node: return False\n",
    "    return True\n",
    "\n",
    "def checkWellLabeledNodes(G):\n",
    "    well_labeled_nodes = []\n",
    "    for node in G.nodes:\n",
    "        if not checkIfAttributes(graph.nodes[node], possible_attributes): continue\n",
    "        neighbors = [n for n in graph.neighbors(node)]\n",
    "        completed = True\n",
    "        for neighbor in neighbors:\n",
    "            if not checkIfAttributes(graph.nodes[neighbor], possible_attributes): \n",
    "                completed = False\n",
    "                break\n",
    "        if not completed : continue\n",
    "        # passed both tests, good places to start:\n",
    "        well_labeled_nodes.append(node)\n",
    "    return well_labeled_nodes"
   ]
  },
  {
   "cell_type": "code",
   "execution_count": 7,
   "metadata": {},
   "outputs": [],
   "source": [
    "# Studying nodes, discovered 3 kinds of them: nodes with triangles, one link nodes and several link nodes\n",
    "# Obtain the nodes with trianlges, and the other 2 cases\n",
    "\n",
    "count_triangles = 0\n",
    "count_non_tri_easy = 0\n",
    "count_non_tri = 0\n",
    "nodes_with_triangles = []\n",
    "nodes_one_neighbor = []\n",
    "nodes_plus_neighbors = []\n",
    "for node in graph.nodes:\n",
    "    neighbors = [n for n in graph.neighbors(node)]\n",
    "    triangles_in_node = locateTrianglesInNode(graph, neighbors, node)\n",
    "    if triangles_in_node['triangles_count'] == 0 and len(neighbors) > 1: \n",
    "        count_non_tri += 1\n",
    "        nodes_plus_neighbors.append(node)\n",
    "        #print('----SUP--- node: ', node , ' count: ', len(neighbors))\n",
    "    elif triangles_in_node['triangles_count'] == 0 and len(neighbors) == 1:\n",
    "        count_non_tri_easy += 1\n",
    "        #print('----EQUAL--- node: ', node)\n",
    "        nodes_one_neighbor.append(node)\n",
    "    else:\n",
    "        count_triangles += 1\n",
    "        nodes_with_triangles.append(node)\n",
    "        #print('----TRI--- qty: ', triangles_in_node['triangles_count'])\n",
    "\n",
    "#print('# of nodes w/triangles: ', count_triangles, ' # of same with no: ', count_non_tri_easy, ' others: ', count_non_tri)\n",
    "#print(count_triangles + count_non_tri_easy + count_non_tri)"
   ]
  },
  {
   "cell_type": "code",
   "execution_count": 8,
   "metadata": {},
   "outputs": [
    {
     "ename": "NameError",
     "evalue": "name 'getPairRelationship' is not defined",
     "output_type": "error",
     "traceback": [
      "\u001b[0;31m---------------------------------------------------------------------------\u001b[0m",
      "\u001b[0;31mNameError\u001b[0m                                 Traceback (most recent call last)",
      "\u001b[0;32m<ipython-input-8-dbfb8eb16a37>\u001b[0m in \u001b[0;36m<module>\u001b[0;34m\u001b[0m\n\u001b[1;32m     11\u001b[0m     \u001b[0mprepare_new_values\u001b[0m \u001b[0;34m=\u001b[0m \u001b[0;34m{\u001b[0m\u001b[0;34m}\u001b[0m\u001b[0;34m\u001b[0m\u001b[0;34m\u001b[0m\u001b[0m\n\u001b[1;32m     12\u001b[0m     \u001b[0;32mfor\u001b[0m \u001b[0mpair\u001b[0m \u001b[0;32min\u001b[0m \u001b[0mtriangles_in_node\u001b[0m\u001b[0;34m[\u001b[0m\u001b[0;34m'triangles_pairs'\u001b[0m\u001b[0;34m]\u001b[0m\u001b[0;34m:\u001b[0m\u001b[0;34m\u001b[0m\u001b[0;34m\u001b[0m\u001b[0m\n\u001b[0;32m---> 13\u001b[0;31m         \u001b[0mconnections\u001b[0m \u001b[0;34m=\u001b[0m \u001b[0mgetPairRelationship\u001b[0m\u001b[0;34m(\u001b[0m\u001b[0mpair\u001b[0m\u001b[0;34m[\u001b[0m\u001b[0;36m0\u001b[0m\u001b[0;34m]\u001b[0m\u001b[0;34m,\u001b[0m \u001b[0mpair\u001b[0m\u001b[0;34m[\u001b[0m\u001b[0;36m1\u001b[0m\u001b[0;34m]\u001b[0m\u001b[0;34m,\u001b[0m \u001b[0mgraph\u001b[0m\u001b[0;34m,\u001b[0m \u001b[0mpossible_attributes\u001b[0m\u001b[0;34m)\u001b[0m\u001b[0;34m\u001b[0m\u001b[0;34m\u001b[0m\u001b[0m\n\u001b[0m\u001b[1;32m     14\u001b[0m         \u001b[0;32mfor\u001b[0m \u001b[0matt\u001b[0m\u001b[0;34m,\u001b[0m \u001b[0mmatches\u001b[0m \u001b[0;32min\u001b[0m \u001b[0mconnections\u001b[0m\u001b[0;34m.\u001b[0m\u001b[0mitems\u001b[0m\u001b[0;34m(\u001b[0m\u001b[0;34m)\u001b[0m\u001b[0;34m:\u001b[0m\u001b[0;34m\u001b[0m\u001b[0;34m\u001b[0m\u001b[0m\n\u001b[1;32m     15\u001b[0m             \u001b[0;32mfor\u001b[0m \u001b[0mmatch\u001b[0m \u001b[0;32min\u001b[0m \u001b[0mmatches\u001b[0m\u001b[0;34m:\u001b[0m\u001b[0;34m\u001b[0m\u001b[0;34m\u001b[0m\u001b[0m\n",
      "\u001b[0;31mNameError\u001b[0m: name 'getPairRelationship' is not defined"
     ]
    }
   ],
   "source": [
    "# ---- RUN FOR AL DESIRED NODES -----\n",
    "\n",
    "well_labeled_nodes = checkWellLabeledNodes(graph)\n",
    "pipe = [node for node in well_labeled_nodes if node in nodes_with_triangles]\n",
    "pipe = pipe + [node for node in graph.nodes if node not in pipe]\n",
    "\n",
    "for node in pipe:\n",
    "    neighbors = [n for n in graph.neighbors(node)]\n",
    "    triangles_in_node = locateTrianglesInNode(graph, neighbors, node)\n",
    "\n",
    "    prepare_new_values = {}\n",
    "    for pair in triangles_in_node['triangles_pairs']:\n",
    "        connections = getPairRelationship(pair[0], pair[1], graph, possible_attributes)\n",
    "        for att, matches in connections.items():\n",
    "            for match in matches:\n",
    "                addValueToNode(graph, node, match, att)"
   ]
  },
  {
   "cell_type": "code",
   "execution_count": null,
   "metadata": {},
   "outputs": [],
   "source": [
    "# Get info as neeeded for evaluation\n",
    "def extractFromGraph(G, attribute):\n",
    "    extracted = {}\n",
    "    for node in G.nodes:\n",
    "        node_att = G.nodes[node]\n",
    "        if attribute in node_att: extracted[node] = node_att[attribute]\n",
    "    return extracted"
   ]
  },
  {
   "cell_type": "code",
   "execution_count": null,
   "metadata": {},
   "outputs": [],
   "source": [
    "def evaluation_accuracy(groundtruth, pred):\n",
    "    \"\"\"    Compute the accuracy of your model.\n",
    "\n",
    "     The accuracy is the proportion of true results.\n",
    "\n",
    "    Parameters\n",
    "    ----------\n",
    "    groundtruth :  : dict \n",
    "       A dict of attributes, either location, employer or college attributes. \n",
    "       key is a node, value is a list of attribute values.\n",
    "    pred : dict \n",
    "       A dict of attributes, either location, employer or college attributes. \n",
    "       key is a node, value is a list of attribute values. \n",
    "\n",
    "    Returns\n",
    "    -------\n",
    "    out : float\n",
    "       Accuracy.\n",
    "    \"\"\"\n",
    "    true_positive_prediction=0   \n",
    "    for p_key, p_value in pred.items():\n",
    "        if p_key in groundtruth:\n",
    "            # if prediction is no attribute values, e.g. [] and so is the groundtruth\n",
    "            # May happen\n",
    "            if not p_value and not groundtruth[p_key]:\n",
    "                true_positive_prediction+=1\n",
    "            # counts the number of good prediction for node p_key\n",
    "            # here len(p_value)=1 but we could have tried to predict more values\n",
    "            true_positive_prediction += len([c for c in p_value if c in groundtruth[p_key]])          \n",
    "        # no else, should not happen: train and test datasets are consistent\n",
    "    return true_positive_prediction*100/sum(len(v) for v in pred.values())\n",
    "\n",
    "print(f'for employer: {evaluation_accuracy(employer,extractFromGraph(graph, \"employer\"))}')\n",
    "print(f'for location: {evaluation_accuracy(location,extractFromGraph(graph, \"location\"))}')\n",
    "print(f'for college: {evaluation_accuracy(college,extractFromGraph(graph, \"college\"))}')"
   ]
  }
 ],
 "metadata": {
  "kernelspec": {
   "display_name": "Python 3",
   "language": "python",
   "name": "python3"
  },
  "language_info": {
   "codemirror_mode": {
    "name": "ipython",
    "version": 3
   },
   "file_extension": ".py",
   "mimetype": "text/x-python",
   "name": "python",
   "nbconvert_exporter": "python",
   "pygments_lexer": "ipython3",
   "version": "3.6.7"
  }
 },
 "nbformat": 4,
 "nbformat_minor": 2
}
